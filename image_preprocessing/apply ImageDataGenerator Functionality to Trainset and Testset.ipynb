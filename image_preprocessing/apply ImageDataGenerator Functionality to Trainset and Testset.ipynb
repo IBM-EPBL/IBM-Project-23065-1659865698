{
 "cells": [
  {
   "cell_type": "code",
   "execution_count": null,
   "metadata": {},
   "outputs": [],
   "source": [
    "from keras.preprocessing.image import ImageDataGenerator\n",
    "train_datagen = ImageDataGenerator(rescale = 1./255,shear_range=0.2,zoom_range=0.2,horizontal_flip=True)\n",
    "test_datagen = ImageDataGenerator(rescale = 1./255)\n",
    "x_train = train_datagen.flow_from_directory(r'C:\\Users\\HP\\Desktop\\data_set\\TRAIN_SET',target_size = (64,64) ,batch_size = 5,color_mode='rgb',class_mode = 'sparse')\n",
    "x_test = test_datagen.flow_from_directory(r'C:\\Users\\HP\\Desktop\\data_set\\TEST_SET-20221101T044129Z-001\\TEST_SET',target_size = (64,64) ,batch_size = 5,color_mode='rgb',class_mode = 'sparse')\n",
    "\n",
    " "
   ]
  }
 ],
 "metadata": {
  "language_info": {
   "name": "python"
  },
  "orig_nbformat": 4
 },
 "nbformat": 4,
 "nbformat_minor": 2
}
