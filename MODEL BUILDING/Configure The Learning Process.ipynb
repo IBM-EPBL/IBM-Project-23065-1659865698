{
 "cells": [
  {
   "cell_type": "code",
   "execution_count": null,
   "metadata": {},
   "outputs": [],
   "source": [
    "import numpy as np #used for numerical analysis\n",
    "import tensorflow #open source used for both ML and DL for computatio\n",
    "from tensorflow.keras.models import Sequential #it is a palin stack of layer \n",
    "from tensorflow.keras.layers import Layer #Alayer consists of a tensor-in tensor-out computation function\n",
    "from tensorflow.keras.layers import Dense,Flatten #flattening the input or change the dimension\n",
    "from tensorflow.keras.layers import Conv2D,MaxPooling2D,Dropout #convolution layer , MaxPooling2D-for downsampling the image\n",
    "from keras.preprocessing.image import ImageDataGenerator\n",
    "model=Sequential()\n",
    "model.add(Conv2D(32,(3,3),input_shape=(64,64,3),activation='relu'))\n",
    "model.add(MaxPooling2D(pool_size =(2,2)))\n",
    "model.add(Conv2D(32,(3,3),activation='relu'))\n",
    "model.add(MaxPooling2D(pool_size =(2,2)))\n",
    "model.add(Flatten())\n",
    "model.add(Dense(units=128,activation='relu'))\n",
    "model.add(Dense(units=128,activation='softmax'))\n",
    "model.summary\n",
    ">\n",
    "model.compile(optimizer='adam',loss='sparse_categorical_crossentropy',metrics=['accuracy'])"
   ]
  }
 ],
 "metadata": {
  "language_info": {
   "name": "python"
  },
  "orig_nbformat": 4
 },
 "nbformat": 4,
 "nbformat_minor": 2
}
